{
  "nbformat": 4,
  "nbformat_minor": 0,
  "metadata": {
    "colab": {
      "name": "Laborator 6.ipynb",
      "provenance": [],
      "authorship_tag": "ABX9TyOdnlqNihJgNUOPTQDz+Fmj",
      "include_colab_link": true
    },
    "kernelspec": {
      "name": "python3",
      "display_name": "Python 3"
    },
    "language_info": {
      "name": "python"
    }
  },
  "cells": [
    {
      "cell_type": "markdown",
      "metadata": {
        "id": "view-in-github",
        "colab_type": "text"
      },
      "source": [
        "<a href=\"https://colab.research.google.com/github/alexandrufrunza/Informatica-aplicata/blob/main/Laborator_6.ipynb\" target=\"_parent\"><img src=\"https://colab.research.google.com/assets/colab-badge.svg\" alt=\"Open In Colab\"/></a>"
      ]
    },
    {
      "cell_type": "markdown",
      "metadata": {
        "id": "4y5denlItEu_"
      },
      "source": [
        "# Instalare\n",
        "\n",
        "\n",
        "**Recomandare**: Utilizarea framework-ului Anaconda (https://www.anaconda.com/products/individual).\n",
        "\n",
        "# Alegerea editorului de cod\n",
        "\n",
        "\n",
        "\n",
        "*   Utilizarea Spyder (vine integrat în framework-ul Anaconda) - similarități cu Matlab\n",
        "*   Utilizarea VSCode (https://code.visualstudio.com/) - mai versatil, modular\n",
        "*   Orice alt editor de cod, în funcție de preferințe \n",
        "\n",
        "# Jupyter și Colab Notebooks\n",
        "\n",
        "\n",
        "\n",
        "*   Jupyter Notebook (integrat în Anaconda) permite scrierea de text și cod și rularea locală într-un browser web. \n",
        "*   Colab reprezintă un serviciu al Google construit pe ideea propusă de Jupyter Notebook. Este folosit cu precădere pentru aplicații de Machine Learning și Data Science. Rulează în totalitate în Cloud, are o mulțime de funcționalități preinstalate și este gratis.\n",
        "\n",
        "\n"
      ]
    },
    {
      "cell_type": "code",
      "metadata": {
        "id": "Z4zIC5FltBgT"
      },
      "source": [
        ""
      ],
      "execution_count": null,
      "outputs": []
    }
  ]
}