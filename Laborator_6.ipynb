{
  "nbformat": 4,
  "nbformat_minor": 0,
  "metadata": {
    "colab": {
      "name": "Laborator 6.ipynb",
      "provenance": [],
      "collapsed_sections": [],
      "authorship_tag": "ABX9TyMhYUwfIs6R4jZ916D8zJAr",
      "include_colab_link": true
    },
    "kernelspec": {
      "name": "python3",
      "display_name": "Python 3"
    },
    "language_info": {
      "name": "python"
    }
  },
  "cells": [
    {
      "cell_type": "markdown",
      "metadata": {
        "id": "view-in-github",
        "colab_type": "text"
      },
      "source": [
        "<a href=\"https://colab.research.google.com/github/alexandrufrunza/Informatica-aplicata/blob/main/Laborator_6.ipynb\" target=\"_parent\"><img src=\"https://colab.research.google.com/assets/colab-badge.svg\" alt=\"Open In Colab\"/></a>"
      ]
    },
    {
      "cell_type": "markdown",
      "metadata": {
        "id": "4y5denlItEu_"
      },
      "source": [
        "# Cuprins\n",
        "\n",
        "\n",
        "1.   Instalare și mod de lucru\n",
        "2.   Elemente introductive\n",
        "tipuri de date, structuri condiționale, structuri repetitive, funcții\n",
        "\n",
        "  *   Versiuni Python\n",
        "  *   Funcția help\n",
        "  *   Importarea modulelor și calea Python\n",
        "  *   Tipuri de date\n",
        "  *   Structuri condiționale\n",
        "  *   Structuri repetitive\n",
        "  *   Funcții\n",
        "\n",
        "\n",
        "3.   Librăria NumPy\n",
        "\n",
        "\n",
        "\n",
        "# Instalare\n",
        "\n",
        "\n",
        "**Recomandare**: Utilizarea framework-ului Anaconda (https://www.anaconda.com/products/individual).\n",
        "\n",
        "# Alegerea editorului de cod\n",
        "\n",
        "\n",
        "\n",
        "*   **Utilizarea Spyder (vine integrat în framework-ul Anaconda) - similarități cu Matlab**\n",
        "*   Utilizarea VSCode (https://code.visualstudio.com/) - mai versatil, modular\n",
        "*   Orice alt editor de cod, în funcție de preferințe \n",
        "\n",
        "# Jupyter și Colab Notebooks\n",
        "\n",
        "\n",
        "\n",
        "*   Jupyter Notebook (integrat în Anaconda) permite scrierea de text și cod și rularea locală într-un browser web. \n",
        "*   Colab reprezintă un serviciu al Google construit pe ideea propusă de Jupyter Notebook. Este folosit cu precădere pentru aplicații de Machine Learning și Data Science. Rulează în totalitate în Cloud, are o mulțime de funcționalități preinstalate, disponibile gratuit.\n",
        "\n",
        "\n"
      ]
    },
    {
      "cell_type": "markdown",
      "metadata": {
        "id": "Hgti5oIAlyIR"
      },
      "source": [
        "# Elemente introductive - tipuri de date, funcții\n",
        "\n",
        "Python este un limbaj de programare open source, generalist și de nivel înalt. Python este un limbaj de programare de tip interpertat ce folosește paradigma orientată pe obiect. Acesta dispune de multiple librării (NumPy, Matplotlib, SciPy) care îi oferă facilități specifice calculului științific (și nu numai). Sintaxa Python este una simplă, asemănătoare pseudocodului (lucru care a contribuit la succesul acestui limbaj de programare - https://www.tiobe.com/tiobe-index/)."
      ]
    },
    {
      "cell_type": "markdown",
      "metadata": {
        "id": "jYKbyaf7QRt8"
      },
      "source": [
        "## Versiuni Python\n",
        "\n",
        "Există două versiuni majore ale Python: Python 2 și Python 3. Acestea au o sintaxă asemănătoare, dar sunt, mai degrabă, 2 limbaje de programare diferite. Începând cu ianuarie 2020, Python nu mai oferă suport pentru limbajul Python 2. În continuare există o multitudine de programe ce rulează folosind Python 2, însă tot ce se dezvoltă în prezent rulează folosind Python 3. În cadrul laboratorului se va folosi exclusiv Python 3. "
      ]
    },
    {
      "cell_type": "code",
      "metadata": {
        "id": "Z4zIC5FltBgT"
      },
      "source": [
        "# Importarea modulului sys\n",
        "import sys\n",
        "\n",
        "print(\"Versiunea Python utilizată: \", sys.version)"
      ],
      "execution_count": null,
      "outputs": []
    },
    {
      "cell_type": "markdown",
      "metadata": {
        "id": "g43LXfGKCvho"
      },
      "source": [
        "## Funcția help"
      ]
    },
    {
      "cell_type": "code",
      "metadata": {
        "id": "vpsaXNFKC0qp"
      },
      "source": [
        "help(print)\n",
        "\n",
        "help(max)"
      ],
      "execution_count": null,
      "outputs": []
    },
    {
      "cell_type": "markdown",
      "metadata": {
        "id": "D9_XGAj8tUSA"
      },
      "source": [
        "## Importarea modulelor și calea Python\n",
        "*   Calea Python poate fi accesată în multimple moduri, una dintre variante este folosirea modulului **sys**\n",
        "*   Importarea unui modul (posibilă doar dacă acesta se află în calea Python) se face folosind cuvântul cheie **import**"
      ]
    },
    {
      "cell_type": "code",
      "metadata": {
        "id": "nv9TME1et7CA"
      },
      "source": [
        "# Importarea modulului sys\n",
        "import sys\n",
        "\n",
        "# Afișarea căii Python\n",
        "print(sys.path)\n",
        "\n",
        "# Modificarea căii Python\n",
        "sys.path.append(\"../\")\n",
        "sys.path.insert(0,\"./test\")\n",
        "\n",
        "print(sys.path)\n",
        "\n",
        "# Importarea folosind un alias\n",
        "import numpy as np   \n",
        "print(np.pi)\n",
        "\n",
        "# Importarea unei funcții dintr-un modul\n",
        "from numpy import sin \n",
        "print(sin(np.pi))"
      ],
      "execution_count": null,
      "outputs": []
    },
    {
      "cell_type": "markdown",
      "metadata": {
        "id": "n6BPw3HnrJYe"
      },
      "source": [
        "## Tipuri de date elementare\n",
        "Ca majoritatea limbajelor de programare, Python folosește o serie de tipuri de date elementare precum **integer**, **float**, **boolean** și **string** (https://docs.python.org/3.7/library/stdtypes.html). "
      ]
    },
    {
      "cell_type": "code",
      "metadata": {
        "id": "fCs8zw3hs2Z6"
      },
      "source": [
        "# Date numerice: int și float\n",
        "x = 3\n",
        "\n",
        "print(type(x))\n",
        "print(x)\n",
        "\n",
        "y = 2.0\n",
        "print(type(y))\n",
        "print(y)\n",
        "\n",
        "# Operații cu date numerice\n",
        "# Adunare\n",
        "print(x+y)\n",
        "# Scădere\n",
        "print(x-y)\n",
        "# Înmulțire\n",
        "print(x*y)\n",
        "# Împărțire\n",
        "print(x/y)\n",
        "# Ridicare la putere\n",
        "print(x**y)\n",
        "# Modulo\n",
        "print(x%y)\n",
        "\n",
        "# Operatori relaționali\n",
        "print(x<y)\n",
        "print(x<=y)\n",
        "print(x>y)\n",
        "print(x>=y)\n",
        "print(x!=y)\n",
        "print(x==y)"
      ],
      "execution_count": null,
      "outputs": []
    },
    {
      "cell_type": "code",
      "metadata": {
        "id": "RZVbb92Lvaf4"
      },
      "source": [
        "# Date de tip boolean\n",
        "a = True\n",
        "b = False\n",
        "\n",
        "print(type(a))\n",
        "\n",
        "# Operatori logici\n",
        "print(a and b) # ȘI logic\n",
        "print(a or b) # SAU logic\n",
        "print(not a) # NU logic\n",
        "print(a != b) # XOR logic"
      ],
      "execution_count": null,
      "outputs": []
    },
    {
      "cell_type": "code",
      "metadata": {
        "id": "ZRGRoBHM8yl0"
      },
      "source": [
        "# Date de tip string\n",
        "c = \"hello\"\n",
        "d = 'world'\n",
        "print(type(c))\n",
        "print(c)\n",
        "print(c + ' ' + d)\n",
        "\n",
        "e = '%s %s %s-%d' % (c, d, 'E', 111)\n",
        "print(e)"
      ],
      "execution_count": null,
      "outputs": []
    },
    {
      "cell_type": "markdown",
      "metadata": {
        "id": "2InWZuhv-Qrj"
      },
      "source": [
        "## Tipuri de date de tip container\n",
        "Python include o serie predefinită de tipuri de date de tip container: list, tuple, dictionnary, set.\n",
        "\n",
        "### List\n",
        "Sunt tipuri de date asemănătoare vectorilor. Acestea se pot modifica (mutable) după creare și pot fi de diverse tipuri."
      ]
    },
    {
      "cell_type": "code",
      "metadata": {
        "id": "sXxVNdohBBxG"
      },
      "source": [
        "# Generarea unei liste\n",
        "a1_list = [1, 4, -4., \"string\"]\n",
        "print(a1_list, type(a1_list), sep=\"\\n\")\n",
        "\n",
        "# Metode specifice listelor\n",
        "a1_list.append(\"valoare nouă\")\n",
        "\n",
        "a1_list.insert(0, 'prima valoare')\n",
        "\n",
        "print(a1_list)\n",
        "\n",
        "# Accesarea și modificarea valorilor elementelor\n",
        "a1_list[2] = 20\n",
        "print(a1_list)\n",
        "\n",
        "# Slicing\n",
        "nums = [1, 5, 12, -5, -3, 0]\n",
        "print( nums[:2] )\n",
        "print( nums[2:4] )\n",
        "print( nums[-3:] )\n",
        "\n",
        "new_nums = []\n",
        "\n",
        "# Iterarea\n",
        "for x in nums:\n",
        "  new_nums.append(x**2)\n",
        "\n",
        "print(new_nums)\n",
        "\n",
        "second_nums = [x**2 for x in nums if x%2==0]\n",
        "print(second_nums)"
      ],
      "execution_count": null,
      "outputs": []
    },
    {
      "cell_type": "markdown",
      "metadata": {
        "id": "FeNfzqyTElHj"
      },
      "source": [
        "### Tuple \n",
        "Sunt tipuri de date asemănătoare listelor cu excepția faptului că nu pot fi modificate ulterior generării (immutable)."
      ]
    },
    {
      "cell_type": "code",
      "metadata": {
        "id": "EWf8-iUHFGvd"
      },
      "source": [
        "# Generarea unei tuple\n",
        "a1_tuple = (1, 4, -4, 'string')\n",
        "print(a1_tuple, type(a1_tuple), sep=\"\\n\")\n",
        "\n",
        "# Accesarea elementelor unei tuple\n",
        "print(a1_tuple[3])\n",
        "\n",
        "# Slicing\n",
        "a2_tuple = a1_tuple[2:]\n",
        "print(a2_tuple)\n",
        "\n",
        "# Iterarea \n",
        "for x in a1_tuple:\n",
        "  print(x)"
      ],
      "execution_count": null,
      "outputs": []
    },
    {
      "cell_type": "markdown",
      "metadata": {
        "id": "RIUpBB-6HhSV"
      },
      "source": [
        "### Dictionnary\n",
        "Un dicționar conține valori sub forma **(cheie, valoare)**."
      ]
    },
    {
      "cell_type": "code",
      "metadata": {
        "id": "Tc7fuAk0Iwzr"
      },
      "source": [
        "# Generarea unui dicționar\n",
        "a1_dict = {\"mar\":\"verde\", \"pi\":3.14, \"cer\":\"albastru\"}\n",
        "print(a1_dict)\n",
        "\n",
        "# Accesarea elementelor\n",
        "print(a1_dict[\"mar\"])\n",
        "\n",
        "print(a1_dict.get(\"pisica\"))\n",
        "\n",
        "# Adăugarea de noi elemente\n",
        "a1_dict[\"pisica\"] = 2\n",
        "\n",
        "# Ștergerea elementelor\n",
        "del a1_dict[\"cer\"]\n",
        "\n",
        "print(a1_dict)\n",
        "\n",
        "# Iterarea într-un dicționar\n",
        "a2_dict = {'om': 2, 'cal': 4, 'păianjen': 8}\n",
        "for cheie,valoare in a2_dict.items():\n",
        "  print(\"Un %s are %d picioare\"%(cheie,valoare))"
      ],
      "execution_count": null,
      "outputs": []
    },
    {
      "cell_type": "markdown",
      "metadata": {
        "id": "6-5yABiuLp_p"
      },
      "source": [
        "### Set\n",
        "Setul reprezintă o listă neordonată de elemente distincte."
      ]
    },
    {
      "cell_type": "code",
      "metadata": {
        "id": "Dp-SWhcuLvQg"
      },
      "source": [
        "# Generare unui set\n",
        "animale = {\"pisica\", \"raton\", \"soarece\"}\n",
        "print(\"pisica\" in animale)\n",
        "print(\"peste\" in animale)\n",
        "\n",
        "# Adăugarea unui nou element\n",
        "animale.add(\"peste\")\n",
        "\n",
        "# Afișarea lungimii unui set\n",
        "print(len(animale))\n",
        "\n",
        "# Iterarea printr-un set\n",
        "for id, animal in enumerate(animale):\n",
        "    print('#%d: %s' % (id + 1, animal))"
      ],
      "execution_count": null,
      "outputs": []
    },
    {
      "cell_type": "markdown",
      "metadata": {
        "id": "fGLfQXckQWzC"
      },
      "source": [
        "## Structuri condiționale\n",
        "### **if**"
      ]
    },
    {
      "cell_type": "code",
      "metadata": {
        "id": "5KMa5w4EQ5wl"
      },
      "source": [
        "x = int(input(\"Introduceți un număr întreg de la tastatură: \"))\n",
        "if x < 0:\n",
        "  X = 0\n",
        "  print(\"Numărul introdus era negativ, iar valoarea lui x a fost setată ca 0\")\n",
        "elif x == 0:\n",
        "  print(\"Zero\")\n",
        "elif x == 1:\n",
        "  print(\"A fost introdus numărul 1\")\n",
        "else:\n",
        "  print(\"Alt număr\")"
      ],
      "execution_count": null,
      "outputs": []
    },
    {
      "cell_type": "markdown",
      "metadata": {
        "id": "Db2HF_-NRxVI"
      },
      "source": [
        "## Structuri repetitive\n",
        "### **for**"
      ]
    },
    {
      "cell_type": "code",
      "metadata": {
        "id": "S4bQ7bO7R3-9"
      },
      "source": [
        "# Iterarea printr-un obiect (listă, tuplă, etc.)\n",
        "a = [2, 4, 6, 8, -3, -6]\n",
        "count = 0\n",
        "\n",
        "for num in a:\n",
        "  a[count] = num+10\n",
        "  count += 1\n",
        "\n",
        "print(a)\n",
        "\n",
        "# Iterarea peste o secvență de numere (funcția range)\n",
        "for i in range(5):\n",
        "  print(i**2)\n",
        "\n",
        "b = []\n",
        "for j in range(11,20,4):\n",
        "  b.append(j)\n",
        "\n",
        "print(b)"
      ],
      "execution_count": null,
      "outputs": []
    },
    {
      "cell_type": "markdown",
      "metadata": {
        "id": "UmeNEzEFUSZN"
      },
      "source": [
        "### **while**"
      ]
    },
    {
      "cell_type": "code",
      "metadata": {
        "id": "WlNWXUoXUVhy"
      },
      "source": [
        "# Iterare clasică\n",
        "k = 4\n",
        "while k<12:\n",
        "  print(k)\n",
        "  k += 3\n",
        "\n",
        "\n",
        "# break, continue și pass\n",
        "k = 11\n",
        "count_even = 0\n",
        "while k<30:\n",
        "  k += 3\n",
        "  if (k %5) == 0:\n",
        "    print(\"Numar divizibil cu 5\")\n",
        "    break\n",
        "  elif (k % 2) == 0:\n",
        "    count_even += 1 \n",
        "    continue\n",
        "  else:\n",
        "    print(\"Nicio varianta\")\n",
        "    pass\n",
        "  print(k)\n",
        "  \n",
        "\n",
        "print(\"Numărul de elemente pare: \", count_even)"
      ],
      "execution_count": null,
      "outputs": []
    },
    {
      "cell_type": "markdown",
      "metadata": {
        "id": "3TEstxwBohuY"
      },
      "source": [
        "## Funcții\n",
        "\n",
        "\n",
        "*   Funcțiile sunt definite folosind cuvântul cheie **def** și sintaxa **def nume_functie(arg1, arg2, ..., arg n)**\n",
        "*   Funcțiile pot fi salvate în fișierul curent sau pot fi importate din alte module\n",
        "*   De obicei, un modul reprezintă un fișier ce conține mai multe funcții/clase\n",
        "*   Nu sunt restricții referitoare la numele fișierului sau al funcției, dar **NU** suprascrieți funcțiile built-in\n",
        "*   O funcție se apelează numai după declararea sau importarea acesteia\n"
      ]
    },
    {
      "cell_type": "code",
      "metadata": {
        "id": "E53EJ9VEpfUS"
      },
      "source": [
        "# Declararea unei funcții\n",
        "def semn(x):\n",
        "  if x<0:\n",
        "    return \"Negativ\"\n",
        "  elif x >0:\n",
        "    return \"Pozitiv\"\n",
        "  else:\n",
        "    return \"Zero\"\n",
        "\n",
        "semn(-4)"
      ],
      "execution_count": null,
      "outputs": []
    },
    {
      "cell_type": "code",
      "metadata": {
        "id": "XBV1prXIqoSu"
      },
      "source": [
        "def media_aritmetica(a,b):\n",
        "  ma = (a+b)/2\n",
        "  return ma\n",
        "\n",
        "media = media_aritmetica(23,-45)\n",
        "print(media)"
      ],
      "execution_count": null,
      "outputs": []
    },
    {
      "cell_type": "markdown",
      "metadata": {
        "id": "iBQl3ICZq9jK"
      },
      "source": [
        "**Pentru mai multe informații despre limbajul de programare consultați https://docs.python.org/3/tutorial/**."
      ]
    },
    {
      "cell_type": "markdown",
      "metadata": {
        "id": "GjjFzTUfqvuF"
      },
      "source": [
        "# Librăria NumPy (https://numpy.org/)\n",
        "*   NumPy este librăria fundamentală pentru calcul științific din Python\n",
        "*   Permite lucrul cu date multidimensionale (vectori, matrici, etc.)\n",
        "*   Are multe similarități cu Matlab (https://numpy.org/doc/stable/user/numpy-for-matlab-users.html)\n",
        "*   Python nu vine preinstalat cu această librărie (Anaconda da)\n",
        "*   Înainte de utilizare, aceasta trebuie importată\n",
        "\n",
        "\n"
      ]
    },
    {
      "cell_type": "code",
      "metadata": {
        "id": "jPWFWk6rsNWy"
      },
      "source": [
        "# Importarea modulului Numpy\n",
        "\n",
        "import numpy as np\n",
        "\n",
        "x = 49\n",
        "print(np.sqrt(x))\n",
        "\n",
        "# Generarea unui vector\n",
        "a_vec = np.array([0, 4, 7, -4, -2])\n",
        "print(a_vec)\n",
        "\n",
        "# Generarea unui vector complex\n",
        "b_vec = [1+1j, 2-3j, 4+2j]\n",
        "print(b_vec)\n",
        "\n",
        "# Generarea unui vector folosind funcția arange\n",
        "c_vec = np.arange(1,9)\n",
        "print(c_vec)\n",
        "\n",
        "d_vec = np.arange(1,10,3)\n",
        "print(d_vec)\n",
        "\n",
        "# Generarea unei matrici\n",
        "A_mat = np.array([ [-3, 4, 2], [0, 1, -5], [12, -6, 3] ])\n",
        "print(A_mat)\n",
        "\n",
        "print(1e200/np.Inf)\n",
        "\n",
        "# Înmulțirea a doi vectori\n",
        "print(a_vec * a_vec)\n",
        "\n",
        "# Produsul scalar al doi vectori\n",
        "print(np.dot(a_vec,a_vec))\n",
        "print(a_vec * np.transpose(a_vec))\n",
        "\n",
        "# Înmulțirea a două matrici\n",
        "print(A_mat*A_mat)\n",
        "\n",
        "print(np.matmul(A_mat, A_mat))"
      ],
      "execution_count": null,
      "outputs": []
    },
    {
      "cell_type": "markdown",
      "metadata": {
        "id": "DiuZNbO_w4Ve"
      },
      "source": [
        "# Temă\n",
        "\n",
        "Faceți tema din cadrul primului laborator Matlab folosind Python (în loc de : veți folosi numpy.arange) și primul exercițiu din cadrul temei celui de-al doilea laborator Matlab.\n",
        "\n",
        "\n"
      ]
    }
  ]
}