{
  "nbformat": 4,
  "nbformat_minor": 0,
  "metadata": {
    "colab": {
      "name": "Laborator 8.ipynb",
      "provenance": [],
      "collapsed_sections": [],
      "authorship_tag": "ABX9TyM1hTStDNFvYqXTwRFoDyZx",
      "include_colab_link": true
    },
    "kernelspec": {
      "name": "python3",
      "display_name": "Python 3"
    },
    "language_info": {
      "name": "python"
    }
  },
  "cells": [
    {
      "cell_type": "markdown",
      "metadata": {
        "id": "view-in-github",
        "colab_type": "text"
      },
      "source": [
        "<a href=\"https://colab.research.google.com/github/alexandrufrunza/Informatica-aplicata/blob/main/Laborator_8.ipynb\" target=\"_parent\"><img src=\"https://colab.research.google.com/assets/colab-badge.svg\" alt=\"Open In Colab\"/></a>"
      ]
    },
    {
      "cell_type": "markdown",
      "metadata": {
        "id": "SqtLWR5qUcmY"
      },
      "source": [
        "# Cuprins\n",
        "\n",
        "## Funcții specifice variabilelor complexe\n",
        "* Funcțiile real și imag\n",
        "* Funcțiile abs și angle\n",
        "\n",
        "## Funcții algebrice\n",
        "* Funcțiile sum și prod\n",
        "* Funcțiile cumsum și cumprod\n",
        "* Funcția mod\n",
        "* Funcțiile mean și std\n",
        "* Funcțiile round, ceil și floor\n",
        "* Funcția exponențială\n",
        "* Funcția logaritmică\n",
        "\n",
        "## Funcții trigonometrice\n",
        "* Funcții trigonometrice directe\n",
        "* Funcții trigonometrice inverse\n",
        "\n",
        "## Reprezentarea grafică folosind Matplotlib\n",
        "* Funcția figure\n",
        "* Funcția plot, stem și step\n",
        "* Funcția subplot\n"
      ]
    },
    {
      "cell_type": "code",
      "metadata": {
        "id": "HRBIJBFXWY-6"
      },
      "source": [
        "# Importarea librăriilor necesare\n",
        "import numpy as np\n",
        "import numpy.random as rnd\n",
        "import matplotlib.pyplot as plt"
      ],
      "execution_count": null,
      "outputs": []
    },
    {
      "cell_type": "markdown",
      "metadata": {
        "id": "8FpYkZ4iV-iT"
      },
      "source": [
        "# Funcții specifice variabilelor complexe"
      ]
    },
    {
      "cell_type": "markdown",
      "metadata": {
        "id": "8h6fiPnrWOAG"
      },
      "source": [
        "## Funcțiile real și imag\n",
        "\n",
        "Generează partea reală, respectiv imaginară pentru valoarea complexă dată, sau în cazul unor vectori și matricii, pentru fiecare dintre elementele variabilei respective."
      ]
    },
    {
      "cell_type": "code",
      "metadata": {
        "id": "2WBSlHwZWWtl"
      },
      "source": [
        "a = 5 - 4j\n",
        "print(np.real(a))\n",
        "print(np.imag(a))\n",
        "\n",
        "A_mat = rnd.randint(-10,10, (3,3)) + 1j*rnd.randint(-10,10, (3,3))\n",
        "print(A_mat)\n",
        "\n",
        "print(np.real(A_mat))\n",
        "print(np.imag(A_mat))"
      ],
      "execution_count": null,
      "outputs": []
    },
    {
      "cell_type": "markdown",
      "metadata": {
        "id": "-cv1HCkGXICq"
      },
      "source": [
        "## Funcțiile abs și angle\n",
        "\n",
        "* Returneaza modulul și faza (în radiani!) pentru o valoare complexă dată.\n",
        "* În cazul unor vectori sau matrici, generează modulul și faza pentru fiecare dintre elementele variabilei date "
      ]
    },
    {
      "cell_type": "code",
      "metadata": {
        "id": "XvsmNt8WXcYe"
      },
      "source": [
        "b = 1 + 1j\n",
        "print(np.abs(b))\n",
        "print(np.angle(b))\n",
        "\n",
        "print( np.rad2deg(np.angle(b)) )\n",
        "\n",
        "b_vec = np.array( [1-1j, 5+2*1j, np.exp(-1j*np.pi/2)] )\n",
        "\n",
        "print(np.abs(b_vec))\n",
        "print(np.angle(b_vec))\n",
        "print( np.rad2deg(np.angle(b_vec)) )"
      ],
      "execution_count": null,
      "outputs": []
    },
    {
      "cell_type": "markdown",
      "metadata": {
        "id": "a2S4Fe61YXBi"
      },
      "source": [
        "# Funcții algebrice"
      ]
    },
    {
      "cell_type": "markdown",
      "metadata": {
        "id": "daYqkUq9Yb4O"
      },
      "source": [
        "## Funcțiile sum și prod\n",
        "Returnează suma si produsul elementelor vectorilor/matricelor."
      ]
    },
    {
      "cell_type": "code",
      "metadata": {
        "id": "C33kYZWNYjCi"
      },
      "source": [
        "c_vec = rnd.randint(0,10, (1,5))\n",
        "print(c_vec)\n",
        "\n",
        "print(np.sum(c_vec))\n",
        "print(np.prod(c_vec))\n",
        "\n",
        "B_mat = rnd.randint(0,10, (3,3))\n",
        "print(B_mat)\n",
        "\n",
        "print(np.sum(B_mat))\n",
        "print(np.prod(B_mat))"
      ],
      "execution_count": null,
      "outputs": []
    },
    {
      "cell_type": "markdown",
      "metadata": {
        "id": "3EG0xfTzZJHY"
      },
      "source": [
        "## Funcțiile cumsum și cumprod\n",
        "* Returnează sumele, respectiv produsele parțiale, calculate începând cu prima valoare din vector/matrice. \n",
        "* Pentru matrice, elementele vor fi parcurse pe linie."
      ]
    },
    {
      "cell_type": "code",
      "metadata": {
        "id": "-pwJtBdeZSYr"
      },
      "source": [
        "d_vec = np.array([1, 7, -4, 8, -3]);\n",
        "\n",
        "print(np.cumsum(d_vec))\n",
        "print(np.cumprod(d_vec))\n",
        "\n",
        "C_mat = rnd.randint(0,10, (2,2))\n",
        "print(C_mat)\n",
        "\n",
        "print(np.cumsum(C_mat))\n",
        "print(np.cumprod(C_mat))"
      ],
      "execution_count": null,
      "outputs": []
    },
    {
      "cell_type": "markdown",
      "metadata": {
        "id": "TFmruJXBpwuR"
      },
      "source": [
        "## Funcția mod\n",
        "\n",
        "* Realizează operația modulo, adică generează restul la o operație de împărțire\n",
        "* Parametrii de intrare sunt deîmpărțitul (poate fi vector sau matrice) și împărțitorul (valoare sau de aceleași dimensiuni cu deîmpărțitul)\n",
        "* Util in stabilirea parității"
      ]
    },
    {
      "cell_type": "code",
      "metadata": {
        "id": "Rv09aGnCp7hT"
      },
      "source": [
        "c = 7\n",
        "print(np.mod(c,3))\n",
        "\n",
        "e_vec = rnd.randint(0,10, (1,4))\n",
        "print(e_vec)\n",
        "\n",
        "print(np.mod(e_vec, 2))\n",
        "\n",
        "D_mat1 = rnd.randint(0,10, (2,2))\n",
        "print(D_mat1)\n",
        "\n",
        "D_mat2 = rnd.randint(0,10, (2,2))\n",
        "print(D_mat2)\n",
        "\n",
        "print(np.mod(D_mat1,D_mat2))\n"
      ],
      "execution_count": null,
      "outputs": []
    },
    {
      "cell_type": "markdown",
      "metadata": {
        "id": "X8HxzBvUaCmM"
      },
      "source": [
        "## Funcțiile mean și std"
      ]
    },
    {
      "cell_type": "markdown",
      "metadata": {
        "id": "Uq3rmhyQpQQd"
      },
      "source": [
        "* Funcția mean afișează media unui vector/matrice \n",
        "* Funcția std afișează deviația standard a unui vector/matrice "
      ]
    },
    {
      "cell_type": "code",
      "metadata": {
        "id": "hvsWDcSXaFlZ"
      },
      "source": [
        "f_vec = rnd.randn(5,1)\n",
        "print(f_vec)\n",
        "\n",
        "print(np.mean(f_vec))\n",
        "print(np.std(f_vec))\n",
        "\n",
        "F_mat = rnd.rand(3,3)\n",
        "print(F_mat)\n",
        "\n",
        "print(np.mean(F_mat))\n",
        "print(np.std(F_mat))"
      ],
      "execution_count": null,
      "outputs": []
    },
    {
      "cell_type": "markdown",
      "metadata": {
        "id": "nP4Vg0T_rVPB"
      },
      "source": [
        "## Funcțiile round, floor, ceil\n",
        "\n",
        "* Funcționează ca în mediul C, realizând rounjirea, aproximarea inferioară sau superioară a unei valori sau a elementelor unor vectori sau matrici specificați ca parametrii de intrare\n",
        "* În cazul unor valori complexe, aproximarea se realizează atât pentru valoarea reală, cât și pentru cea imaginară pentru round, în schimb pentru floor și ceil se va genera o eroare."
      ]
    },
    {
      "cell_type": "code",
      "metadata": {
        "id": "ozoeN5vDrjJh"
      },
      "source": [
        "g_vec = 10*rnd.rand(1,8)\n",
        "print(g_vec)\n",
        "\n",
        "print(np.round(g_vec))\n",
        "print(np.floor(g_vec))\n",
        "print(np.ceil(g_vec))\n",
        "\n",
        "G_mat = 10*rnd.randn(3,3)\n",
        "print(G_mat)\n",
        "print(np.round(G_mat))\n",
        "print(np.floor(G_mat))\n",
        "print(np.ceil(G_mat))\n",
        "\n",
        "h_vec = rnd.randn(1,4) + 1j*rnd.randn(1,4)\n",
        "print(h_vec)\n",
        "\n",
        "print(np.round(h_vec))"
      ],
      "execution_count": null,
      "outputs": []
    },
    {
      "cell_type": "markdown",
      "metadata": {
        "id": "I-FqULqZtK8I"
      },
      "source": [
        "## Funcția exponențială\n",
        "* Funcția ‘exp’ generează ridicarea la putere utilizând ca bază numărul lui Euler, iar ca exponent valoarea, vectorul sau matricea precizată ca parametru de intrare\n",
        "* Utilizată în general în lucrul cu numere complexe"
      ]
    },
    {
      "cell_type": "code",
      "metadata": {
        "id": "cas18WiZtVdX"
      },
      "source": [
        "print(np.exp(1))\n",
        "print(np.exp(1j*np.pi/3))\n",
        "\n",
        "H_mat = rnd.randint(0,10,(3,3))\n",
        "print(H_mat)\n",
        "\n",
        "print(np.exp(H_mat))"
      ],
      "execution_count": null,
      "outputs": []
    },
    {
      "cell_type": "markdown",
      "metadata": {
        "id": "1FpYRkM9t353"
      },
      "source": [
        "## Funcția logaritmică\n",
        "* În funcție de baza cu care se lucrează, există diferite funcții logaritmice: log, log2, log10\n",
        "* Parametrii de intrare (argument) pot fi valori, vectori sau matrici.\n",
        "* logB(X) = logA(X) / logA(B)"
      ]
    },
    {
      "cell_type": "code",
      "metadata": {
        "id": "05QbUctIuMkf"
      },
      "source": [
        "print(np.log(2.71))\n",
        "print(np.log2(2))\n",
        "print(np.log10(10))\n",
        "\n",
        "aux = np.log2(9) / np.log2(3)\n",
        "print(aux)\n",
        "\n",
        "L_mat = rnd.randint(2,10,(2,3))\n",
        "print(L_mat)\n",
        "\n",
        "print(np.log2(L_mat))"
      ],
      "execution_count": null,
      "outputs": []
    },
    {
      "cell_type": "markdown",
      "metadata": {
        "id": "xIQtXMR1u1RG"
      },
      "source": [
        "# Funcții trigonometrice"
      ]
    },
    {
      "cell_type": "markdown",
      "metadata": {
        "id": "dPkXBaFVu3yc"
      },
      "source": [
        "## Funcții trigonometrice directe\n",
        "* Funcțiile **sin, cos și tan** primesc ca variabile de intrare valori (sau vectori/matrice) interpretate ca unghiuri în radiani, returnând rezultatul aplicării funcției sinus, cosinus și tangentă.\n",
        "* În NumPy nu există funcția ce ar returna cotangenta\n",
        "* În NumPy nu există funcțiile echivalente pentru valorile în grade"
      ]
    },
    {
      "cell_type": "code",
      "metadata": {
        "id": "-atTG6vCvJ1b"
      },
      "source": [
        "m_vec = np.array([0, np.pi/3, np.pi/4, np.pi/6])\n",
        "\n",
        "a1 = np.sin(m_vec)\n",
        "a2 = np.cos(m_vec)\n",
        "a3 = np.tan(m_vec)\n",
        "print(a1)\n",
        "print(a2)\n",
        "print(a3)\n"
      ],
      "execution_count": null,
      "outputs": []
    },
    {
      "cell_type": "markdown",
      "metadata": {
        "id": "X6rLL-X1w-4D"
      },
      "source": [
        "## Funcțiile trigonometrice inverse\n",
        "\n",
        "\n",
        "Funcțiile arcsin, arccos și arctan primesc ca variabile de intrare valori din codomeniul funcțiilor trigonometrice directe, și returnează rezultatul aplicării funcțiilor inverse arcsin, arccos și arctg (în radiani).\n",
        "\n"
      ]
    },
    {
      "cell_type": "code",
      "metadata": {
        "id": "cD5gWFbQxbFX"
      },
      "source": [
        "print(np.arcsin(a1))\n",
        "print(np.arccos(a2))\n",
        "print(np.arctan(a3))"
      ],
      "execution_count": null,
      "outputs": []
    },
    {
      "cell_type": "markdown",
      "metadata": {
        "id": "OTcySYqbyKOp"
      },
      "source": [
        "# Reprezentarea grafică folosind Matplotlib\n",
        "Se va folosi modulul pyplot din pachetul matplotlib (**import matplotlib.pyplot as plt**)"
      ]
    },
    {
      "cell_type": "markdown",
      "metadata": {
        "id": "Gjba7a51yQsL"
      },
      "source": [
        "# Funcția figure\n",
        "* Funcția subplot\n",
        "* Deschide o fereastra goala in care va fi introdusa reprezentarea grafica\n",
        "Utilizata daca se lucreaza simultan cu mai multe grafice independente. \n",
        "* Daca se lucreaza cu o singura reprezentare grafica, are caracter optional\n",
        "* In cazul in care se deschid mai multe astfel de ferestre, se apeleaza figura in care se doreste inserarea reprezentarii. In caz contrar, reprezentarea grafica se face intotdeauna in ultima fereastra deschisa"
      ]
    },
    {
      "cell_type": "code",
      "metadata": {
        "id": "DfXHqhJmyviV"
      },
      "source": [
        "plt.close(\"all\")\n",
        "\n",
        "# Funcția Gaussiana e^((-t^2) / (2s^2) )\n",
        "t = np.arange(-0.5,0.5, 0.01)\n",
        "s = .04;\n",
        "gaussian = np.exp(-t**2 / (2*s**2) );\n",
        "\n",
        "# Afișarea funcției\n",
        "plt.plot(t,gaussian)\n",
        "\n",
        "#Închiderea ultimei figuri accesată\n",
        "plt.close()\n",
        "\n",
        "#Deschiderea de noi figuri\n",
        "plt.figure(1)\n",
        "plt.figure(2)\n",
        "plt.figure(100)\n",
        "plt.figure(200)\n",
        "\n",
        "# Inchiderea figurilor selectate\n",
        "plt.close(100)\n",
        "plt.close(200)\n",
        "\n",
        "plt.plot(rnd.randn(10,4))\n",
        "plt.figure(1)\n",
        "plt.plot(rnd.randn(10,3))"
      ],
      "execution_count": null,
      "outputs": []
    },
    {
      "cell_type": "markdown",
      "metadata": {
        "id": "Q3zKYb9RzrrH"
      },
      "source": [
        "## Funcția plot, stem și step\n",
        "\n",
        "\n",
        "*   Utilizate pentru reprezentarea grafică în coordonate carteziene a vectorilor de valori, în cadrul ferestrei specificate de ‘figure’\n",
        "*   Funcția plot unește punctele reprezentate, rezultând un domeniu continuu\n",
        "*   Funcția stem prezintă valorile sub formă de componente dicrete\n",
        "*   Funcția step prezintă valori discrete într-un domeniu continuu\n",
        "*   Tipic, pentru oricare dintre funcțiile de mai sus, se specifică două argumente de intrare, și anume vectorul absciselor și cel al ordonatelor; în cazul în care se specifică doar un vector de intrare, elementele acelui vector vor fi considerate ordonatele, iar absicele vor corespunde indicelor elementelor din cadrul vectorului (1, 2, 3, ...)\n",
        "\n"
      ]
    },
    {
      "cell_type": "code",
      "metadata": {
        "id": "Q33ZtyCDz6uV"
      },
      "source": [
        "plt.close(\"all\")\n",
        "\n",
        "# Funcția plot\n",
        "x = np.arange(0, 2*np.pi, np.pi/100)\n",
        "y1 = np.sin(x)\n",
        "\n",
        "plt.figure(1)\n",
        "plt.plot(x,y1, label=\"sin(x)\")\n",
        "plt.title('Functia Sinus')\n",
        "plt.xlabel('x')\n",
        "plt.ylabel('y')\n",
        "plt.legend()\n",
        "\n",
        "plt.figure(2)\n",
        "y2 = np.cos(x)\n",
        "plt.plot(x,y1, x,y2)\n",
        "plt.title('Sinus si Cosinus')\n",
        "plt.xlabel('x')\n",
        "plt.ylabel('y')\n",
        "\n",
        "plt.figure(3)\n",
        "plt.plot(x,y1,'b-o', x,y2, 'r-x')\n",
        "plt.title('Sinus si Cosinus')\n",
        "plt.xlabel('x')\n",
        "plt.ylabel('y')"
      ],
      "execution_count": null,
      "outputs": []
    },
    {
      "cell_type": "code",
      "metadata": {
        "id": "3PH_vnDG2TLD"
      },
      "source": [
        "plt.close(\"all\")\n",
        "\n",
        "# Funcția stem\n",
        "n = np.arange(0, 2*np.pi, np.pi/10)\n",
        "y21 = np.sin(n)\n",
        "\n",
        "plt.figure(5)\n",
        "plt.stem(n,y21, label=\"y[n]\")\n",
        "plt.title('Functia Sinus')\n",
        "plt.xlabel('n')\n",
        "plt.ylabel('y')\n",
        "plt.legend()\n",
        "\n",
        "plt.figure(6)\n",
        "y22 = np.cos(n);\n",
        "plt.stem(n,y22, \"r-.\")\n",
        "plt.title('Cosinus')\n",
        "plt.xlabel('n')\n",
        "plt.ylabel('y')"
      ],
      "execution_count": null,
      "outputs": []
    },
    {
      "cell_type": "code",
      "metadata": {
        "id": "EBs6j6u33UCK"
      },
      "source": [
        "plt.close(\"all\")\n",
        "\n",
        "# Funcția step\n",
        "x3 = np.linspace(-np.pi,np.pi,20)\n",
        "y31 = np.sin(x3);\n",
        "\n",
        "plt.figure(8)\n",
        "plt.step(x3,y31, label=\"y(x)\")\n",
        "plt.title('Functia Sinus')\n",
        "plt.xlabel('x')\n",
        "plt.ylabel('y')\n",
        "plt.legend()\n",
        "\n",
        "\n",
        "y32 = np.cos(x3);\n",
        "\n",
        "plt.figure(9)\n",
        "plt.step(x3,y31,'bo-', label=\"sin(x)\");\n",
        "plt.step(x3,y32,'r-.', label=\"cos(x)\");\n",
        "plt.title('Functia Sinus')\n",
        "plt.xlabel('x')\n",
        "plt.ylabel('y')\n",
        "plt.legend()"
      ],
      "execution_count": null,
      "outputs": []
    },
    {
      "cell_type": "markdown",
      "metadata": {
        "id": "Hf-A9avz4sE-"
      },
      "source": [
        "# Funcția subplot\n",
        "\n",
        "* Permite divizarea figurii într-un număr de subgrafice\n",
        "* Primele două argumente de intrare specifică modul de divizare al figurii în subgrafice (câte pe verticală și câte pe orizontală), iar al treilea argument de intrare specifică indicele unui anumit subgrafic (acestea se reprezintă de la stânga la dreapta și de sus în jos)\n",
        "* După apelarea funcției subplot, în urma căreia se specifică subgraficul ales pentru reprezentare, se utilizează în continuare una dintre funcțiile plot, stem, step etc."
      ]
    },
    {
      "cell_type": "code",
      "metadata": {
        "id": "MxYAZkWG47hh"
      },
      "source": [
        "plt.close(\"all\")\n",
        "\n",
        "plt.figure(1)\n",
        "plt.subplot(2,2, 1)\n",
        "plt.plot(rnd.randint(1,5,(5,5)))\n",
        "plt.plot(rnd.randint(1,5, (5,5)))\n",
        "plt.title('Primul subgrafic')\n",
        "\n",
        "plt.subplot(2,2, 3)\n",
        "plt.plot(rnd.randint(1,5,(5,5)))\n",
        "plt.title('Ultimul subgrafic')\n",
        "\n",
        "plt.figure(2)\n",
        "plt.subplot(3,1,1)\n",
        "plt.plot(rnd.randint(1,10,(5,5)))\n",
        "plt.plot(rnd.randint(1,10,(5,5)))\n",
        "plt.title('Primul subgrafic')\n",
        "\n",
        "plt.subplot(3,1,3)\n",
        "plt.plot(rnd.randint(1,5,(5,5)))\n",
        "plt.plot(rnd.randint(1,5,(5,5)))\n",
        "plt.title('Al doilea subgrafic subgrafic')\n",
        "\n",
        "plt.subplot(3,1,2)\n",
        "x = np.linspace(0,2*np.pi,20);\n",
        "y = np.sin(x);\n",
        "plt.stem(x, y, 'bo-')\n",
        "plt.stem(x, np.cos(x), 'r-x')\n",
        "plt.title('Functii trigonometrice')\n",
        "plt.xlabel('x')\n",
        "plt.ylabel('y(x)')\n",
        "\n",
        "# Afișare \"curata\" a subgraficelor\n",
        "plt.tight_layout()\n",
        "\n"
      ],
      "execution_count": null,
      "outputs": []
    },
    {
      "cell_type": "code",
      "metadata": {
        "id": "F2KB7CKz7q2W"
      },
      "source": [
        "plt.close('all')\n",
        "fig = plt.figure(3)\n",
        "\n",
        "plt.subplot(221)\n",
        "x = np.linspace(0,2*np.pi,20);\n",
        "y = np.sin(x);\n",
        "plt.stem(x, y, 'bo-')\n",
        "plt.stem(x, np.cos(x), 'r-x')\n",
        "plt.title('Functii trigonometrice')\n",
        "plt.xlabel('x')\n",
        "plt.ylabel('y(x)')\n",
        "\n",
        "plt.subplot(223)\n",
        "plt.plot(rnd.randint(1,5,(5,5)))\n",
        "plt.plot(rnd.randint(1,5,(5,5)))\n",
        "plt.title('Al doilea subgrafic subgrafic')\n",
        "\n",
        "plt.subplot(122)\n",
        "plt.plot(rnd.randint(1,10,(5,5)))\n",
        "plt.plot(rnd.randint(1,10,(5,5)))\n",
        "plt.title('Primul subgrafic')\n",
        "\n",
        "plt.tight_layout()"
      ],
      "execution_count": null,
      "outputs": []
    },
    {
      "cell_type": "markdown",
      "metadata": {
        "id": "UQkgapcr8szY"
      },
      "source": [
        "# Temă\n",
        "Din subiectele din anii anteriori, rezolvați toate problemele ce presupun reprezentarea grafică (cele ce se pot rezolva cu funcțiile parcurse - obligatoriu, primiți 1 punct în plus la nota de laborator dacă le rezolvați și pe celelalte).\n"
      ]
    }
  ]
}