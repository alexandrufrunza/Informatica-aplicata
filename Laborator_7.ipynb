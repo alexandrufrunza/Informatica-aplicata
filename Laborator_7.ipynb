{
  "nbformat": 4,
  "nbformat_minor": 0,
  "metadata": {
    "colab": {
      "name": "Laborator 7.ipynb",
      "provenance": [],
      "collapsed_sections": [],
      "authorship_tag": "ABX9TyNaTp+8EWoCRTXPVwhz+85D",
      "include_colab_link": true
    },
    "kernelspec": {
      "name": "python3",
      "display_name": "Python 3"
    },
    "language_info": {
      "name": "python"
    }
  },
  "cells": [
    {
      "cell_type": "markdown",
      "metadata": {
        "id": "view-in-github",
        "colab_type": "text"
      },
      "source": [
        "<a href=\"https://colab.research.google.com/github/alexandrufrunza/Informatica-aplicata/blob/main/Laborator_7.ipynb\" target=\"_parent\"><img src=\"https://colab.research.google.com/assets/colab-badge.svg\" alt=\"Open In Colab\"/></a>"
      ]
    },
    {
      "cell_type": "markdown",
      "metadata": {
        "id": "M3COjX-99Wrz"
      },
      "source": [
        "# Generarea de vectori și matrice folosind NumPy\n",
        "1.   Concatenarea\n",
        "2.   Generarea vectorilor folosind metoda **arrange**\n",
        "3.   Funcțiile **linspace** și **logspace**\n",
        "4.   Funcțiile **zeros** și **ones** \n",
        "5.   Funcțiile **rand**, **randint** și **randn**\n",
        "6.   Funcțiile **eye** și **identity**\n",
        "\n",
        "# Funcții și operatori specifici lucrului cu vectori și matrice\n",
        "1.   Înmulțirea element cu element și înmulțirea matriceală\n",
        "2.   Funcțiile **dot**, **transpose** și **conj**/**conjugate**\n",
        "3.   Funcția **len** și variabilele **shape** și **size**\n",
        "4.   Funcțiile **min** și **max**\n",
        "5.   Funcția **sort**\n",
        "6.   Funcția **where**\n",
        "7.   Funcțiile **rot90**, **fliplr** și **flipud**\n",
        "8.   Funcțiile **det** și **inv**\n",
        "9.   Funcția **diag**\n",
        "10.  Funcțiile **tril** și **triu**\n",
        "11.  Funcția **reshape**\n",
        "\n",
        "# Scrierea și citirea din fișiere folosind NumPy\n",
        "\n",
        "\n"
      ]
    },
    {
      "cell_type": "markdown",
      "metadata": {
        "id": "jRZibH_xXk_H"
      },
      "source": [
        "# Generarea de vectori și matrice folosind NumPy\n"
      ]
    },
    {
      "cell_type": "code",
      "metadata": {
        "id": "4_Wt6vEq8_zu",
        "colab": {
          "base_uri": "https://localhost:8080/"
        },
        "outputId": "81cc00dd-3154-4189-cdc7-a8b933f93c11"
      },
      "source": [
        "# Importarea librăriei NumPy\n",
        "import numpy as np\n",
        "\n",
        "# Generarea de vectori folosind NumPy\n",
        "a_vec = np.array([2, 4, -5, 0])\n",
        "print(a_vec)\n",
        "\n",
        "# Generarea de matrici folosind NumPy\n",
        "A_mat = np.array([ [2, 4, 0], [5, 7, -2], [12, 5, -4] ])\n",
        "print(A_mat)"
      ],
      "execution_count": null,
      "outputs": [
        {
          "output_type": "stream",
          "name": "stdout",
          "text": [
            "[ 2  4 -5  0]\n",
            "[[ 2  4  0]\n",
            " [ 5  7 -2]\n",
            " [12  5 -4]]\n"
          ]
        }
      ]
    },
    {
      "cell_type": "markdown",
      "metadata": {
        "id": "jZ-9SazqAi-H"
      },
      "source": [
        "## Concatenarea\n",
        "\n",
        "\n",
        "*   Axa 0 este axa ordonatelor, iar axa 1 este axa abciselor.\n",
        "*   Parametrii funcțiilor sunt de tip **tuple**\n",
        "\n"
      ]
    },
    {
      "cell_type": "code",
      "metadata": {
        "id": "iDn63Jdg-x4Y",
        "colab": {
          "base_uri": "https://localhost:8080/"
        },
        "outputId": "2d04d5a0-1816-49c5-df81-fad28d7a94b4"
      },
      "source": [
        "# Concatenarea\n",
        "# Metoda concatenate\n",
        "A_conc_vert1 = np.concatenate((A_mat, A_mat), axis=0)\n",
        "print(A_conc_vert1)\n",
        "\n",
        "A_conc_oriz1 = np.concatenate((A_mat, A_mat), axis=1)\n",
        "print(A_conc_oriz1)\n",
        "\n",
        "# Metodele vstack și hstack\n",
        "A_conc_vert2 = np.vstack( (A_mat, A_mat) )\n",
        "print(A_conc_vert2)\n",
        "\n",
        "A_conc_oriz2 = np.hstack( (A_mat, A_mat) )\n",
        "print(A_conc_oriz2)"
      ],
      "execution_count": null,
      "outputs": [
        {
          "output_type": "stream",
          "name": "stdout",
          "text": [
            "[[ 2  4  0]\n",
            " [ 5  7 -2]\n",
            " [12  5 -4]\n",
            " [ 2  4  0]\n",
            " [ 5  7 -2]\n",
            " [12  5 -4]]\n",
            "[[ 2  4  0  2  4  0]\n",
            " [ 5  7 -2  5  7 -2]\n",
            " [12  5 -4 12  5 -4]]\n",
            "[[ 2  4  0]\n",
            " [ 5  7 -2]\n",
            " [12  5 -4]\n",
            " [ 2  4  0]\n",
            " [ 5  7 -2]\n",
            " [12  5 -4]]\n",
            "[[ 2  4  0  2  4  0]\n",
            " [ 5  7 -2  5  7 -2]\n",
            " [12  5 -4 12  5 -4]]\n"
          ]
        }
      ]
    },
    {
      "cell_type": "markdown",
      "metadata": {
        "id": "P9aTAqhAArJB"
      },
      "source": [
        "## Generarea vectorilor folosind metoda **arange**\n",
        "\n",
        "Generează vectori între două limite: [inferioară și superioară), folosind ca pas cel de-al treilea argument. "
      ]
    },
    {
      "cell_type": "code",
      "metadata": {
        "id": "lrxlwtRgAwBs",
        "colab": {
          "base_uri": "https://localhost:8080/"
        },
        "outputId": "60a8a42d-e5da-4930-c7ca-676f80a79ea3"
      },
      "source": [
        "b_vec1 = np.arange(6)\n",
        "print(b_vec1)\n",
        "\n",
        "b_vec2 = np.arange(2, 10)\n",
        "print(b_vec2)\n",
        "\n",
        "b_vec3 = np.arange(15, 30, 2)\n",
        "print(b_vec3)"
      ],
      "execution_count": null,
      "outputs": [
        {
          "output_type": "stream",
          "name": "stdout",
          "text": [
            "[0 1 2 3 4 5]\n",
            "[2 3 4 5 6 7 8 9]\n",
            "[15 17 19 21 23 25 27 29]\n"
          ]
        }
      ]
    },
    {
      "cell_type": "markdown",
      "metadata": {
        "id": "SX4EOEKlBfjM"
      },
      "source": [
        "## Funcțiile **linspace** și **logspace**\n",
        "\n",
        "Funcționare similară cu a Matlab-ului. **Linspace** generează valori în progresie aritmetică între limitele menționate, iar **logspace** folosește aceste valori ca puteri ale lui 10. "
      ]
    },
    {
      "cell_type": "code",
      "metadata": {
        "id": "8IPa_DE1BmQw",
        "colab": {
          "base_uri": "https://localhost:8080/"
        },
        "outputId": "cdd31f57-383c-42b8-e496-60a52ca9942a"
      },
      "source": [
        "# Funcția linspace\n",
        "c_vec1 = np.linspace(0, 11, 5)\n",
        "print(c_vec1)\n",
        "\n",
        "c_vec2 = np.linspace(0, 4, 3)\n",
        "print(c_vec2)\n",
        "\n",
        "# Funcția logspace\n",
        "c_vec3 = np.logspace(0, 4, 3)\n",
        "print(c_vec3)\n",
        "\n",
        "c_vec4 = 10**(np.linspace(0, 4, 3))\n",
        "print(c_vec3 - c_vec4)"
      ],
      "execution_count": null,
      "outputs": [
        {
          "output_type": "stream",
          "name": "stdout",
          "text": [
            "[ 0.    2.75  5.5   8.25 11.  ]\n",
            "[0. 2. 4.]\n",
            "[1.e+00 1.e+02 1.e+04]\n",
            "[0. 0. 0.]\n"
          ]
        }
      ]
    },
    {
      "cell_type": "markdown",
      "metadata": {
        "id": "LJjwNnLtEJPn"
      },
      "source": [
        "## Funcțiile **zeros** și **ones**\n",
        "\n",
        "\n",
        "*   Dimensiunile sunt ca tip de date **tuple**\n",
        "*   Dacă se folosește un singur argument, va genera un vector linie. (nu o matrice pătratică precum în Matlab)\n",
        "\n"
      ]
    },
    {
      "cell_type": "code",
      "metadata": {
        "id": "kjsPspZGELLa",
        "colab": {
          "base_uri": "https://localhost:8080/"
        },
        "outputId": "9710cd79-41b4-4967-9dee-7a5f776a317e"
      },
      "source": [
        "# Funcția zeros\n",
        "B_mat1 = np.zeros(2)\n",
        "print(B_mat1)\n",
        "\n",
        "B_mat2 = np.zeros( (2,2) )\n",
        "print(B_mat2)\n",
        "\n",
        "# Funcția ones\n",
        "B_mat3 = np.ones(5)\n",
        "print(B_mat3)\n",
        "\n",
        "B_mat4 = np.ones( (3,1) )\n",
        "print(B_mat4)"
      ],
      "execution_count": null,
      "outputs": [
        {
          "output_type": "stream",
          "name": "stdout",
          "text": [
            "[0. 0.]\n",
            "[[0. 0.]\n",
            " [0. 0.]]\n",
            "[1. 1. 1. 1. 1.]\n",
            "[[1.]\n",
            " [1.]\n",
            " [1.]]\n"
          ]
        }
      ]
    },
    {
      "cell_type": "markdown",
      "metadata": {
        "id": "vy13rRXaGiZX"
      },
      "source": [
        "## Funcțiile **rand**, **randint** și **randn**\n",
        "\n",
        "* Funcțiile sunt importate din NumPy, din modulul **random**. \n",
        "* Funcția **rand** generează un vector/o matrice cu valori aparținând distribuției uniforme.\n",
        "* Funcția **randint** generează un vector/o matrice cu valori întregi incluse între un minim și un maxim. Dimensiunea este specificată sub formă de tuple.\n",
        "* Funcția **randn** generează un vector/o matrice cu valori aparținând distribuției normale"
      ]
    },
    {
      "cell_type": "code",
      "metadata": {
        "id": "jxOxI50nHk5n",
        "colab": {
          "base_uri": "https://localhost:8080/"
        },
        "outputId": "b3d21a51-b285-4d9d-87cb-b56d76d2f1d1"
      },
      "source": [
        "from numpy import random as rnd\n",
        "\n",
        "# Funcția rand\n",
        "d_vec1 = rnd.rand(4)\n",
        "print(d_vec1)\n",
        "\n",
        "d_vec2 = rnd.rand(2,4)\n",
        "print(d_vec2)\n",
        "\n",
        "d_vec3 = rnd.rand(3,2,3)\n",
        "print(d_vec3)\n",
        "\n",
        "# Funcția randint\n",
        "d_vec4 = rnd.randint(2,3)\n",
        "print(d_vec4)\n",
        "\n",
        "C_mat1 = rnd.randint(0,10, (2,3))\n",
        "print(C_mat1)\n",
        "\n",
        "# Funcția randn\n",
        "d_vec5 = rnd.randn(5,1)\n",
        "print(d_vec5)\n",
        "\n",
        "C_mat2 = rnd.randn(4,2)\n",
        "print(C_mat2)"
      ],
      "execution_count": null,
      "outputs": [
        {
          "output_type": "stream",
          "name": "stdout",
          "text": [
            "[0.6317357  0.52372902 0.77071056 0.43016075]\n",
            "[[0.0847131  0.50887079 0.71166395 0.00514162]\n",
            " [0.98848512 0.82293269 0.77454527 0.90111707]]\n",
            "[[[0.66203884 0.81012438 0.0927361 ]\n",
            "  [0.08627272 0.15388703 0.04309684]]\n",
            "\n",
            " [[0.1641657  0.33900626 0.52503274]\n",
            "  [0.38990634 0.2653384  0.92973844]]\n",
            "\n",
            " [[0.51608078 0.33229491 0.75744105]\n",
            "  [0.13077202 0.49868895 0.34421425]]]\n",
            "2\n",
            "[[9 2 2]\n",
            " [1 0 5]]\n",
            "[[ 0.65148847]\n",
            " [-0.10778442]\n",
            " [-0.24123542]\n",
            " [-2.12479486]\n",
            " [-0.94098605]]\n",
            "[[-0.35793072 -0.85069382]\n",
            " [-0.05681811  1.18551033]\n",
            " [-0.52402813  1.3860196 ]\n",
            " [ 1.61780306  0.74731509]]\n"
          ]
        }
      ]
    },
    {
      "cell_type": "markdown",
      "metadata": {
        "id": "WVQKq2s6SnQb"
      },
      "source": [
        "## Funcțiile **eye** și **identity**\n",
        "\n",
        "\n",
        "*   Generează o matrice pătratică\n",
        "*   Funcția **eye** este similară cu cea din Matlab, funcția **identity** generează doar matrici identitate pătratice.\n",
        "\n"
      ]
    },
    {
      "cell_type": "code",
      "metadata": {
        "id": "MC8XdXs0Ss80",
        "colab": {
          "base_uri": "https://localhost:8080/"
        },
        "outputId": "f025196e-1ed5-4b43-f6b5-027e953c9f21"
      },
      "source": [
        "# Funcția eye\n",
        "I1 = np.eye(3)\n",
        "print(I1)\n",
        "\n",
        "I2 = np.eye(3,4,1)\n",
        "print(I2)\n",
        "\n",
        "# Funcția identity\n",
        "I3 = np.identity(3)\n",
        "print(I3)"
      ],
      "execution_count": null,
      "outputs": [
        {
          "output_type": "stream",
          "name": "stdout",
          "text": [
            "[[1. 0. 0.]\n",
            " [0. 1. 0.]\n",
            " [0. 0. 1.]]\n",
            "[[0. 1. 0. 0.]\n",
            " [0. 0. 1. 0.]\n",
            " [0. 0. 0. 1.]]\n",
            "[[1. 0. 0.]\n",
            " [0. 1. 0.]\n",
            " [0. 0. 1.]]\n"
          ]
        }
      ]
    },
    {
      "cell_type": "markdown",
      "metadata": {
        "id": "uBsLHf7DXpRq"
      },
      "source": [
        "# Funcții și operatori specifici lucrului cu vectori și matrice"
      ]
    },
    {
      "cell_type": "markdown",
      "metadata": {
        "id": "G1hmGrx0Xf78"
      },
      "source": [
        "## Înmulțirea element cu element și înmulțirea matriceală\n",
        "\n",
        "*   În Python/NumPy, operatorul de înmulțire produce o înmulțire element cu element în cazul vectorilor și matricelor\n",
        "*   Înmulțirea maticeală se realizează folosind funcția **matmul**\n",
        "\n"
      ]
    },
    {
      "cell_type": "code",
      "metadata": {
        "id": "D8g6jlZ7lboR",
        "colab": {
          "base_uri": "https://localhost:8080/"
        },
        "outputId": "6bde719b-edb3-4765-c9cb-ff9d847d0f59"
      },
      "source": [
        "# Înmulțire element cu element\n",
        "e_vec1 = rnd.randint(0,10, (1, 5))\n",
        "e_vec2 = rnd.randint(0,10, (1, 5))\n",
        "\n",
        "prod_ham = e_vec1 * e_vec2\n",
        "print(prod_ham)\n",
        "\n",
        "D_mat1 = rnd.randint(0,10, (3,3))\n",
        "D_mat2 = rnd.randint(0,10, (3,3))\n",
        "\n",
        "D_prod_ham = D_mat1 * D_mat2\n",
        "print(D_prod_ham)\n",
        "\n",
        "# Înmulțire matriceală\n",
        "prod_vec_mat = np.matmul(e_vec1, np.transpose(e_vec2))\n",
        "print(prod_vec_mat)\n",
        "\n",
        "D_mat3 = rnd.randint(0,10, (3,2))\n",
        "D_mat4 = rnd.randint(0,10, (2,3))\n",
        "D_prod_mat = np.matmul(D_mat3, D_mat4)\n",
        "print(D_prod_ham)"
      ],
      "execution_count": null,
      "outputs": [
        {
          "output_type": "stream",
          "name": "stdout",
          "text": [
            "[[ 5 25 36  2 28]]\n",
            "[[21  5  6]\n",
            " [36 32  9]\n",
            " [27 45  0]]\n",
            "[[96]]\n",
            "[[21  5  6]\n",
            " [36 32  9]\n",
            " [27 45  0]]\n"
          ]
        }
      ]
    },
    {
      "cell_type": "markdown",
      "metadata": {
        "id": "loG7sKicmsWX"
      },
      "source": [
        "## Funcțiile **dot**, **transpose** și **conj**/**conjugate**\n",
        "\n",
        "\n",
        "*   Funcția **dot** calculează produsul scalar al doi vectori sau produsul matriceal a două matrici (însă este de preferat utilizarea funcției **matmul**)\n",
        "\n"
      ]
    },
    {
      "cell_type": "code",
      "metadata": {
        "id": "l5uaP6Mum5Js",
        "colab": {
          "base_uri": "https://localhost:8080/"
        },
        "outputId": "098bc284-7183-4695-fb06-b8e437a0fa6a"
      },
      "source": [
        "# Funcția dot\n",
        "f_vec1 = rnd.randn(5)\n",
        "f_vec2 = rnd.randn(5)\n",
        "\n",
        "dot_f = np.dot(f_vec1, f_vec2)\n",
        "print(dot_f)\n",
        "\n",
        "F_mat1 = rnd.rand(3,3)\n",
        "F_mat2 = rnd.rand(3,3)\n",
        "\n",
        "print(np.dot(F_mat1,F_mat2) - np.matmul(F_mat1, F_mat2))\n",
        "\n",
        "# Funcția transpose\n",
        "f2_trans = np.transpose(f_vec2)\n",
        "print(np.matmul(f_vec1, f2_trans))\n",
        "\n",
        "# Funcția conj/conjugate\n",
        "f_vec3 = rnd.randn(3) + 1j*rnd.rand(3)\n",
        "print(f_vec3)\n",
        "\n",
        "f_vec3_conj = np.conj(f_vec3)\n",
        "f_vec3_conjugate = np.conjugate(f_vec3)\n",
        "\n",
        "print(f_vec3_conj, f_vec3_conjugate, sep=\"\\n\")"
      ],
      "execution_count": null,
      "outputs": [
        {
          "output_type": "stream",
          "name": "stdout",
          "text": [
            "1.3497445635565182\n",
            "[[0. 0. 0.]\n",
            " [0. 0. 0.]\n",
            " [0. 0. 0.]]\n",
            "1.3497445635565182\n",
            "[-0.53196371+0.21660195j  0.51636589+0.73244843j  0.39423841+0.71233441j]\n",
            "[-0.53196371-0.21660195j  0.51636589-0.73244843j  0.39423841-0.71233441j]\n",
            "[-0.53196371-0.21660195j  0.51636589-0.73244843j  0.39423841-0.71233441j]\n"
          ]
        }
      ]
    },
    {
      "cell_type": "markdown",
      "metadata": {
        "id": "UQoIqVFsrgpj"
      },
      "source": [
        "## Funcțiile **len**, **size** și variabila **shape**\n",
        " \n",
        "*   Funcția **len** este o funcție specifică Python (nu NumPy) și afișează numărul de elemente al unei structuri de date (listă, tuplă, vector, etc.)\n",
        "*   Variabila **shape** este o varibilă specifică NumPy care afișează dimensiunile datelor de tip array\n",
        "*   Funcția **size** este o funcție specifică NumPy care returneză numărul elementelor din cadrul unui array\n",
        "\n"
      ]
    },
    {
      "cell_type": "code",
      "metadata": {
        "id": "KAUtkuWUsOLv",
        "colab": {
          "base_uri": "https://localhost:8080/"
        },
        "outputId": "fb57ebfe-6c3e-463f-f86c-ada1fbb40317"
      },
      "source": [
        "# Funcția len\n",
        "a_list = [2, 4, 5, 'pisică']\n",
        "g_vec = np.array([2, -5, 3, 5, 2])\n",
        "\n",
        "print(len(a_list), len(g_vec), sep=\"\\n\")\n",
        "\n",
        "# Funcția shape\n",
        "g_vec1 = rnd.randn(12)\n",
        "print(g_vec1.shape)\n",
        "\n",
        "g_vec2 = rnd.randn(12,1)\n",
        "print(g_vec2.shape)\n",
        "\n",
        "G_mat = rnd.randint(0,100, (2,4))\n",
        "print(G_mat.shape)\n",
        "\n",
        "# Funcția size\n",
        "print(g_vec2.size)\n",
        "print(G_mat.size)"
      ],
      "execution_count": null,
      "outputs": [
        {
          "output_type": "stream",
          "name": "stdout",
          "text": [
            "4\n",
            "5\n",
            "(12,)\n",
            "(12, 1)\n",
            "(2, 4)\n",
            "12\n",
            "8\n"
          ]
        }
      ]
    },
    {
      "cell_type": "markdown",
      "metadata": {
        "id": "nh4EmjB3uCO8"
      },
      "source": [
        "## Funcțiile **min** și **max**\n",
        "\n",
        "*   Returnează elementele minime, respective maxime din cadrul unui vector sau unei matrice\n",
        "*   Spre deosebire de Matlab, în cazul matricelor, nu se vor returna elementele minime/maxime pe fiecare coloană în parte\n",
        "\n"
      ]
    },
    {
      "cell_type": "code",
      "metadata": {
        "id": "-qSx7311uGvC",
        "colab": {
          "base_uri": "https://localhost:8080/"
        },
        "outputId": "ddadfded-5f2c-4219-eed4-bdc4edbe3e90"
      },
      "source": [
        "# Funcția min\n",
        "H_mat1 = np.array([[1, 3, 6], [-4, 3, -1]])\n",
        "print(np.min(H_mat1))\n",
        "\n",
        "# Funcția max\n",
        "print(np.max(H_mat1))"
      ],
      "execution_count": null,
      "outputs": [
        {
          "output_type": "stream",
          "name": "stdout",
          "text": [
            "-4\n",
            "6\n"
          ]
        }
      ]
    },
    {
      "cell_type": "markdown",
      "metadata": {
        "id": "bSDYVt1cvEHh"
      },
      "source": [
        "## Funcția **sort**\n",
        "\n",
        "*   Sortează ascendent elementele din cadrul unui vector/unei matrice în funcție de axele selectate\n",
        "*   Dacă nu se specifică nicio axă (None), va transforma matricea/vectorul într-un vector linie și va sorta elementele ascendent\n",
        "*   Predifinit sortarea se va face pe ultima axă a tipului respectiv de date\n",
        "*   Pentru a sorta elementele descendent se folosește împreună cu alte funcții/metode\n",
        "\n"
      ]
    },
    {
      "cell_type": "code",
      "metadata": {
        "id": "lZzWV6KQzK2v",
        "colab": {
          "base_uri": "https://localhost:8080/"
        },
        "outputId": "84ec871e-87b9-49c7-9690-acd8aa967ecd"
      },
      "source": [
        "m_vec = np.array([[1,4],[3,1]])\n",
        "print(m_vec)\n",
        "\n",
        "# Sortare pe axa absciselor (ultima dintre axe în exemplul de față)\n",
        "m_oriz = np.sort(m_vec)\n",
        "print(m_oriz)\n",
        "\n",
        "# Sortare pe axa ordonatelor\n",
        "m_ver = np.sort(m_vec, axis=0)\n",
        "print(m_ver)\n",
        "\n",
        "# Transformarea în vector linie și sortarea elementelor\n",
        "m_flat = np.sort(m_vec,axis=None)\n",
        "print(m_flat)\n",
        "\n",
        "# Sortarea descendentă a elementelor\n",
        "# Funcția flip\n",
        "print(np.flip(m_flat))\n",
        "\n",
        "# Operatorul :\n",
        "print(m_flat[::-1])"
      ],
      "execution_count": null,
      "outputs": [
        {
          "output_type": "stream",
          "name": "stdout",
          "text": [
            "[[1 4]\n",
            " [3 1]]\n",
            "[[1 4]\n",
            " [1 3]]\n",
            "[[1 1]\n",
            " [3 4]]\n",
            "[1 1 3 4]\n",
            "[4 3 1 1]\n",
            "[4 3 1 1]\n"
          ]
        }
      ]
    },
    {
      "cell_type": "markdown",
      "metadata": {
        "id": "kIO2CQn7uFrw"
      },
      "source": [
        "## Funcția **where**\n",
        "Returnează elemente din cadrul unui vector pe baza condiției/condițiilor. Este asemănătoare funcției **find*** din Matlab.\n",
        "\n"
      ]
    },
    {
      "cell_type": "code",
      "metadata": {
        "id": "DVUpMZySvGxv",
        "colab": {
          "base_uri": "https://localhost:8080/"
        },
        "outputId": "9d817de5-8378-4483-fa43-ade0b7f9b2ef"
      },
      "source": [
        "n_vec = np.arange(5,20, 3)\n",
        "print(n_vec)\n",
        "\n",
        "n_vec1 = np.where(n_vec < 14)\n",
        "print(n_vec1)\n",
        "\n",
        "# Afișarea indicelor care îndeplinesc condiția\n",
        "print(n_vec1[0])\n",
        "\n",
        "n_vec2 = np.where( (n_vec < 14) | (n_vec>7) )\n",
        "print(n_vec2)\n",
        "\n",
        "n_vec3 = np.where(n_vec <12, n_vec, 2*n_vec)\n",
        "print(n_vec3)"
      ],
      "execution_count": null,
      "outputs": [
        {
          "output_type": "stream",
          "name": "stdout",
          "text": [
            "[ 5  8 11 14 17]\n",
            "(array([0, 1, 2]),)\n",
            "[0 1 2]\n",
            "(array([0, 1, 2, 3, 4]),)\n",
            "[ 5  8 11 28 34]\n"
          ]
        }
      ]
    },
    {
      "cell_type": "markdown",
      "metadata": {
        "id": "BobRmJ-Zwom2"
      },
      "source": [
        "## Funcțiile **rot90**, **fliplr** și **flipud**\n",
        "Aceste funcții sunt similare cu cele din Matlab."
      ]
    },
    {
      "cell_type": "code",
      "metadata": {
        "id": "o9vdkML0xW90"
      },
      "source": [
        "M_mat = rnd.randn(2,3)\n",
        "print(M_mat)\n",
        "\n",
        "# Funcția rot90\n",
        "print( np.rot90(M_mat) )\n",
        "print( np.rot90(M_mat, -1) )\n",
        "\n",
        "# Funcția fliplr\n",
        "print( np.fliplr(M_mat) )\n",
        "\n",
        "# Funcția flipud\n",
        "print( np.flipud(M_mat) )"
      ],
      "execution_count": null,
      "outputs": []
    },
    {
      "cell_type": "markdown",
      "metadata": {
        "id": "vNiGlnfi2X8p"
      },
      "source": [
        "## Funcțiile **det** și **inv**\n",
        "\n",
        "Acestea au același rol ca în Matlab. Sunt importate din NumPy, modulul **linalg**."
      ]
    },
    {
      "cell_type": "code",
      "metadata": {
        "id": "KcMk4W4EBC7H"
      },
      "source": [
        "from numpy.linalg import det, inv\n",
        "\n",
        "N_mat = rnd.randint(0,100, (3,3))\n",
        "\n",
        "# Calculul determinantului\n",
        "print(det(N_mat))\n",
        "\n",
        "# Calculul inversei unei matrici\n",
        "print(inv(N_mat))\n",
        "\n",
        "print(np.matmul(N_mat, inv(N_mat)) - np.identity(N_mat.shape[0]))"
      ],
      "execution_count": null,
      "outputs": []
    },
    {
      "cell_type": "markdown",
      "metadata": {
        "id": "45p4rQWXCPoM"
      },
      "source": [
        "# Funcția diag\n",
        "Funcționează ca funcția din Matlab."
      ]
    },
    {
      "cell_type": "code",
      "metadata": {
        "id": "GWq5JxXUCdu-"
      },
      "source": [
        "# Funcția diag pentru un vector\n",
        "p_vec = np.array([3, 4, -2])\n",
        "p_vec_2 = p_vec[:2]\n",
        "\n",
        "print(np.diag(p_vec))\n",
        "print(np.diag(p_vec_2,1))\n",
        "\n",
        "# Funcția diag pentru o matrice\n",
        "P_mat = rnd.randint(0,100,(3,3))\n",
        "print(P_mat)\n",
        "\n",
        "print(np.diag(P_mat))\n",
        "print(np.diag(P_mat,-1))"
      ],
      "execution_count": null,
      "outputs": []
    },
    {
      "cell_type": "markdown",
      "metadata": {
        "id": "jYFHHJb8D_9n"
      },
      "source": [
        "## Funcțiile **tril** și **triu**\n",
        "Funcționează ca în Matlab."
      ]
    },
    {
      "cell_type": "code",
      "metadata": {
        "id": "ugqlkrEREIfi"
      },
      "source": [
        "# Funcția tril\n",
        "print(np.tril(P_mat))\n",
        "print(np.tril(P_mat,-1))\n",
        "\n",
        "# Funcția triu\n",
        "print(np.triu(P_mat))\n",
        "print(np.triu(P_mat,1))"
      ],
      "execution_count": null,
      "outputs": []
    },
    {
      "cell_type": "markdown",
      "metadata": {
        "id": "tfspcc2PEkpc"
      },
      "source": [
        "## Funcția **reshape** \n",
        "\n",
        "*  Are același rol ca funcția din Matlab.\n",
        "*  Primește ca argumente vectorul/matricea a cărui dimensiune se va modfica, noua dimensiune sub formă de tuple și ordinea preluării elementelor\n",
        "*  Ordinea poate fi de tip \"C\" (limbajul de programare), astfel se preiau elementele pe linie sau de tip \"F\" (Fortran), astfel se preiau elementele pe coloană. Implicit ordinea este de tip \"C\"."
      ]
    },
    {
      "cell_type": "code",
      "metadata": {
        "id": "Qt2K-Ks9IGug"
      },
      "source": [
        "k_vec = np.array([1, -5, 0, 5, 12])\n",
        "print(k_vec.shape)\n",
        "\n",
        "k_vec_col = np.reshape(k_vec, (len(k_vec),1))\n",
        "print(k_vec_col)\n",
        "\n",
        "K_mat = rnd.randint(0,100, (3,4))\n",
        "print(K_mat)\n",
        "\n",
        "K_mat_43_C = np.reshape(K_mat, (4,3), order=\"C\")\n",
        "print(K_mat_43_C)\n",
        "\n",
        "K_mat_43_F = np.reshape(K_mat, (4,3), order=\"F\")\n",
        "print(K_mat_43_F)"
      ],
      "execution_count": null,
      "outputs": []
    },
    {
      "cell_type": "markdown",
      "metadata": {
        "id": "9B5PS_N7KxqC"
      },
      "source": [
        "# Scrierea și citirea din fișiere folosind NumPy și SciPy\n",
        "\n",
        "\n",
        "*   Scrierea (**savetxt**) și citirea (**loadtxt**) de fișiere .csv folosind NumPy\n",
        "*   Scrierea și cititea de fișiera .mat (Matlab) folosind scipy.io\n",
        "\n"
      ]
    },
    {
      "cell_type": "code",
      "metadata": {
        "id": "wrOz5ovWLOmX"
      },
      "source": [
        "L_mat = rnd.randint(0,100,(3,4))\n",
        "print(L_mat)\n",
        "\n",
        "# Scrierea într-un fișier .csv\n",
        "np.savetxt(\"out.csv\", L_mat, delimiter=\",\")\n",
        "\n",
        "# Citirea dintr-un fișier .csv\n",
        "L_mat_read = np.loadtxt(\"out.csv\", delimiter=\",\")\n",
        "print(L_mat_read)\n",
        "\n",
        "\n",
        "m_flat = np.sort(L_mat_read,axis=None)\n",
        "\n",
        "import scipy.io as sio\n",
        "\n",
        "# Scrierea în fișiere .mat\n",
        "sio.savemat(\"out.mat\", {\"L_mat\":m_flat})\n",
        "\n",
        "L_mat_mat = sio.loadmat(\"out.mat\")\n",
        "print(L_mat_mat)\n",
        "print(L_mat_mat[\"L_mat\"])"
      ],
      "execution_count": null,
      "outputs": []
    },
    {
      "cell_type": "markdown",
      "metadata": {
        "id": "7KqRMR_hOC9C"
      },
      "source": [
        "# Exerciții\n",
        "\n",
        "1. Generați aleator un vector cu 100 de elemente ce conține numere întregi cuprinse între 40 și 120. Salvați într-o variabila P_vec.mat pozițiile pe care elementele au valori cuprinse între 50 și 70.\n",
        "2. Pornind de la vectorul a_vec = [2, 4, -5, 7, 18, 0], folosind o singură linie de comandă generați un vector care conține aceleași valori, dar în ordine inversă.\n",
        "3. Generați aleator un vector ce conține numere întregi. Extrageți folosind o singură linie de comandă elementele de pe pozițiile impare.\n",
        "4. Generați aleator o matrice 10x10. Folosind o singură comandă extrageți o matrice de dimensiuni 5x5 ce să conțină elementele din partea dreaptă jos a matricei inițiale.\n",
        "5. Pornind de la vectorul c_vec = [8 9 7 4 5 2 6 5 4 1 3 9 8 7 5 2 3]. Generați un vector care să conțină toate elementele vectorului c_vec cuprinse între 2 și 5.\n",
        "6. Scrieți o funcție în Python care primește o matrice pătratică ca parametru de intrare și returnează un vector ce conține elementele de pe diagonala secundară, matricea triunghiulară superioara și matricea triunghiulară inferioară.\n",
        "7. Pornind de la următorii vectori: A = [8 9 10 11], B = [5], C = [9 8 5], generați o matrice care va conține pe rândurile ei acești vector. Vectori vor fi aliniați la dreapta în cadrul matricei, iar pentru ca dimensiunea lor să corespundă se vor adaugă valori de 0 începând cu coloana din stânga a matricei.\n",
        "8. Generați folosind cât mai puține secvențe de cod următoare matrice A = [ 1 2 3 4 5 6 7;9 7 5 3 1 −1 −3;4 8 16 32 64 128 256].\n"
      ]
    }
  ]
}